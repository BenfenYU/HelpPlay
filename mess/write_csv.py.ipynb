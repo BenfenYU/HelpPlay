{
 "cells": [
  {
   "cell_type": "code",
   "execution_count": 2,
   "metadata": {},
   "outputs": [],
   "source": [
    "import time\n",
    "\n",
    "dataName = \"../data/disneyData\"\n",
    "csvName = \"../data/BuzzLightyearPlanetRescue.txt\"\n",
    "TIMETRANS = 10**9\n",
    "\n",
    "\n",
    "#plt.suptitle('The wait_time of four places ,one record per five minutes') # 图片名称\n",
    "\n",
    "def transTime(data):\n",
    "    localTime = time.localtime(int(data[0])/TIMETRANS)\n",
    "    wait_time = int(data[2])\n",
    "    \n",
    "    return wait_time,localTime\n",
    "\n",
    "def readTime():\n",
    "    natureNum = 1\n",
    "    with open(dataName,\"r\") as f:\n",
    "        for line in f:\n",
    "            data=line.split()\n",
    "            if data :\n",
    "                if data[1]=='BuzzLightyearPlanetRescue':\n",
    "                    wait_time,localTime = transTime(data)\n",
    "                    yield (wait_time,natureNum)\n",
    "                    natureNum = natureNum+1\n",
    "\n",
    "def writeToCsv():\n",
    "    series = readTime()\n",
    "    with open(csvName,\"w\") as f:\n",
    "        while True:\n",
    "            try:\n",
    "                num = next(series)[1]\n",
    "                wait_time = next(series)[0]\n",
    "                f.write(str(num)+','+str(wait_time)+'\\n')\n",
    "            except StopIteration :\n",
    "                return\n",
    "\n",
    "writeToCsv()"
   ]
  },
  {
   "cell_type": "code",
   "execution_count": null,
   "metadata": {},
   "outputs": [],
   "source": []
  }
 ],
 "metadata": {
  "kernelspec": {
   "display_name": "Python 3",
   "language": "python",
   "name": "python3"
  },
  "language_info": {
   "codemirror_mode": {
    "name": "ipython",
    "version": 3
   },
   "file_extension": ".py",
   "mimetype": "text/x-python",
   "name": "python",
   "nbconvert_exporter": "python",
   "pygments_lexer": "ipython3",
   "version": "3.7.1"
  }
 },
 "nbformat": 4,
 "nbformat_minor": 2
}
